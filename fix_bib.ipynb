{
 "cells": [
  {
   "cell_type": "code",
   "execution_count": 3,
   "metadata": {},
   "outputs": [],
   "source": [
    "import re\n",
    "\n",
    "with open('ref.bib', 'r') as f:\n",
    "    lines = f.readlines()\n",
    "    \n",
    "for i, line in enumerate(lines):\n",
    "    pair = line.split('= ', 1)\n",
    "    if 'title' in pair[0]:\n",
    "        lines[i] = pair[0] + '= ' + re.sub(r'([A-Z]+)',r'{\\1}', str(pair[1]))\n",
    "        \n",
    "with open('ref_edit.bib', 'w') as f:\n",
    "    f.writelines(lines)"
   ]
  },
  {
   "cell_type": "markdown",
   "metadata": {},
   "source": [
    "Other suggestions: \n",
    "\n"
   ]
  },
  {
   "cell_type": "code",
   "execution_count": null,
   "metadata": {},
   "outputs": [],
   "source": [
    "re.sub(r'Ö',r'{\\\"O}', str(pair[1]))"
   ]
  }
 ],
 "metadata": {
  "kernelspec": {
   "display_name": "Python 3",
   "language": "python",
   "name": "python3"
  },
  "language_info": {
   "codemirror_mode": {
    "name": "ipython",
    "version": 3
   },
   "file_extension": ".py",
   "mimetype": "text/x-python",
   "name": "python",
   "nbconvert_exporter": "python",
   "pygments_lexer": "ipython3",
   "version": "3.6.6"
  }
 },
 "nbformat": 4,
 "nbformat_minor": 2
}
